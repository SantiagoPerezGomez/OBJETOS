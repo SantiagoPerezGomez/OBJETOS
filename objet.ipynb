{
  "nbformat": 4,
  "nbformat_minor": 0,
  "metadata": {
    "colab": {
      "provenance": []
    },
    "kernelspec": {
      "name": "python3",
      "display_name": "Python 3"
    },
    "language_info": {
      "name": "python"
    }
  },
  "cells": [
    {
      "cell_type": "code",
      "execution_count": 2,
      "metadata": {
        "colab": {
          "base_uri": "https://localhost:8080/"
        },
        "id": "JF91A4Glor1i",
        "outputId": "826e8ded-a07e-4f07-ee73-b4f00f1e90b1"
      },
      "outputs": [
        {
          "output_type": "stream",
          "name": "stdout",
          "text": [
            "Mi coche tiene 6 ruedas\n",
            "mi coche tiene 6 ruedas\n",
            "mi coche tiene gasolina de combustible\n",
            "mi coche tiene 10000 de cilindraje\n",
            "mi coche tiene 6 puertas\n",
            "El coche se esta dezplazando sobre seis ruedas\n",
            "El coche se esta dezplazando sobre seis ruedas\n"
          ]
        }
      ],
      "source": [
        "class Coche():\n",
        "  ruedas= 6\n",
        "  cilindraje=10000\n",
        "  combustible= \"gasolina\"\n",
        "  puerta= 6\n",
        "\n",
        "  \n",
        "#metodo\n",
        "  def desplazamiento(self):\n",
        "    print(\"El coche se esta dezplazando sobre seis ruedas\")\n",
        "miVehiculo=Coche()\n",
        "print(\"Mi coche tiene\",miVehiculo.ruedas,\"ruedas\")\n",
        "#programa principal\n",
        "#generar instancia de clases \n",
        "#Instancia a un objeto\n",
        "#Declaracion objeto\n",
        "miVehiculo=Coche()\n",
        "obj_miCarrito=Coche()\n",
        "#acceso al atributo\n",
        "print(\"mi coche tiene\",miVehiculo.ruedas,\"ruedas\")\n",
        "print(\"mi coche tiene\",miVehiculo.combustible,\"de combustible\")\n",
        "print(\"mi coche tiene\",miVehiculo.cilindraje,\"de cilindraje\")\n",
        "print(\"mi coche tiene\",miVehiculo.puerta,\"puertas\")\n",
        "#forma que un objeto solicita que se ejecute un metodo\n",
        "miVehiculo.desplazamiento()\n",
        "obj_miCarrito.desplazamiento()"
      ]
    },
    {
      "cell_type": "code",
      "source": [
        "class Coche():\n",
        "  ruedas=6\n",
        "  def desplazamiento(self):\n",
        "    print(\"El coche se esta desplazando sobre 6 ruedas\")\n",
        "class Moto():\n",
        "  ruedas=2\n",
        "  def desplazamiento(self):\n",
        "    print(\"La moto se esta despalazando sobre 2 ruedas\")\n",
        "miCarro=Coche()\n",
        "print(\"primer objeto carro\")\n",
        "print(\"mi coche tiene\",miVehiculo.carro)\n"
      ],
      "metadata": {
        "id": "26h7SfjgpJoa"
      },
      "execution_count": null,
      "outputs": []
    },
    {
      "cell_type": "code",
      "source": [
        "class Cachorro():\n",
        "  def __init__(self,color,raza):\n",
        "    self.color= color\n",
        "    self.raza= raza\n",
        "\n",
        "perrito=Cachorro(\"Marron claro\", \"Golden retriever\")\n",
        "obj_perritodeVicky = Cachorro(\"blanco\",\"Shitzu\")\n",
        "obj_perritoElBrayan = Cachorro (\"negro \", \"sin identificar\")\n",
        "\n",
        "print(\"Este es un cachorro sin dueño y la raza{} y es de color{}\".format(perrito.raza,perrito.color))\n",
        "print(\"Este es el perro del  {} y es de color{}\".format(obj_perritodeVicky.raza,perrito.color))\n",
        "print(\"Este es un cachorro de la raza {} y es de color{}\".format(obj_perritoElBrayan.raza,perrito.color))"
      ],
      "metadata": {
        "id": "YyziWwZ0pPKa"
      },
      "execution_count": null,
      "outputs": []
    }
  ]
}